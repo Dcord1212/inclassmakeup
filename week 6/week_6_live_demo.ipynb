{
 "cells": [
  {
   "cell_type": "code",
   "execution_count": 1,
   "id": "bde3f5a9-a17c-4fc4-bdf1-ff9955cb4801",
   "metadata": {
    "tags": []
   },
   "outputs": [],
   "source": [
    "import numpy as np\n",
    "import pandas as pd "
   ]
  },
  {
   "cell_type": "raw",
   "id": "e93f4011-f3f2-4f31-99fe-304911256319",
   "metadata": {
    "tags": []
   },
   "source": [
    "# Create two new Pandas Series objects\n",
    "s1 = pd.Series(index=[2016,2017,2018,2019,2020],\n",
    "               data=[4.1,5.2,6.3,7.4,8.5],\n",
    "               name='Temperature')              \n",
    "display(s1) #how to show the data\n",
    "s2 = pd.Series(index=[2016,2017,2018,2019,2020],\n",
    "               data=[35.5,35.0,34.5,34.0,33.5],\n",
    "               name='Salinity')\n",
    "display(s2)"
   ]
  },
  {
   "cell_type": "code",
   "execution_count": 7,
   "id": "a6c684c5-4f14-4d5d-ab29-988a7ddbc1a0",
   "metadata": {
    "tags": []
   },
   "outputs": [
    {
     "name": "stdout",
     "output_type": "stream",
     "text": [
      "[2016 2017 2018 2019 2020]\n"
     ]
    }
   ],
   "source": [
    "print(s1.index.values) ###showing the different index qualifications"
   ]
  },
  {
   "cell_type": "code",
   "execution_count": 8,
   "id": "64e61290-bc05-42eb-b9e5-9fbaca4a572b",
   "metadata": {
    "tags": []
   },
   "outputs": [
    {
     "data": {
      "text/plain": [
       "array([4.1, 5.2, 6.3, 7.4, 8.5])"
      ]
     },
     "execution_count": 8,
     "metadata": {},
     "output_type": "execute_result"
    }
   ],
   "source": [
    "s1.values #showing the values as an array"
   ]
  },
  {
   "cell_type": "code",
   "execution_count": 10,
   "id": "2cfb2bd4-4bb6-44dc-a9d4-9a18cc278d4c",
   "metadata": {
    "tags": []
   },
   "outputs": [
    {
     "data": {
      "text/plain": [
       "2018    34.5\n",
       "2019    34.0\n",
       "Name: Salinity, dtype: float64"
      ]
     },
     "execution_count": 10,
     "metadata": {},
     "output_type": "execute_result"
    }
   ],
   "source": [
    "s2.loc[2019] ##looking at a specific value\n",
    "s2.loc[2018:2019] ##more than one value, but not all --> a slice!"
   ]
  },
  {
   "cell_type": "code",
   "execution_count": 12,
   "id": "c494c0ef-1db3-4585-918b-dc20376a690e",
   "metadata": {
    "tags": []
   },
   "outputs": [
    {
     "data": {
      "text/plain": [
       "2016    4.1\n",
       "2017    5.2\n",
       "2018    6.3\n",
       "2019    6.4\n",
       "2020    7.5\n",
       "Name: Temperature, dtype: float64"
      ]
     },
     "metadata": {},
     "output_type": "display_data"
    }
   ],
   "source": [
    "#changing the 2019 and 2020 temperature and salinity - good 4 catching/fixing errors/. \n",
    "s1.loc[2019] = 6.4 #changing one value.\n",
    "\n",
    "#index by yearm assign new value\n",
    "s1.loc[2020] = 7.5\n",
    "display(s1)"
   ]
  },
  {
   "cell_type": "code",
   "execution_count": 14,
   "id": "c1e4dbc3-e93d-4824-bd22-733e758a159f",
   "metadata": {
    "tags": []
   },
   "outputs": [
    {
     "data": {
      "text/plain": [
       "2016    4.1\n",
       "2017    5.2\n",
       "2018    6.3\n",
       "2019    6.4\n",
       "2020    7.5\n",
       "Name: Temperature, dtype: float64"
      ]
     },
     "metadata": {},
     "output_type": "display_data"
    },
    {
     "data": {
      "text/plain": [
       "2016    35.5\n",
       "2017    35.0\n",
       "2018    34.5\n",
       "2019    34.0\n",
       "2020    33.5\n",
       "Name: Salinity, dtype: float64"
      ]
     },
     "metadata": {},
     "output_type": "display_data"
    }
   ],
   "source": [
    "display(s1)\n",
    "display(s2)"
   ]
  },
  {
   "cell_type": "code",
   "execution_count": 16,
   "id": "7a66e277-b1c5-40fe-b521-37205455926b",
   "metadata": {
    "tags": []
   },
   "outputs": [
    {
     "data": {
      "text/plain": [
       "2016     4.1\n",
       "2017     5.2\n",
       "2018     6.3\n",
       "2019     6.4\n",
       "2020     7.5\n",
       "2016    35.5\n",
       "2017    35.0\n",
       "2018    34.5\n",
       "2019    34.0\n",
       "2020    33.5\n",
       "dtype: float64"
      ]
     },
     "execution_count": 16,
     "metadata": {},
     "output_type": "execute_result"
    }
   ],
   "source": [
    "pd.concat([s1,s2]) ## combining via column"
   ]
  },
  {
   "cell_type": "code",
   "execution_count": 19,
   "id": "d7c2b0bd-4814-4dc4-89d2-ea5526d21215",
   "metadata": {
    "tags": []
   },
   "outputs": [],
   "source": [
    "env_diff = pd.concat([s1,s2], axis=1) #combine via row, separates into whole new thingy!"
   ]
  },
  {
   "cell_type": "code",
   "execution_count": 21,
   "id": "c30a008b-a9bd-40ed-9651-d8a82c9f063e",
   "metadata": {
    "tags": []
   },
   "outputs": [
    {
     "data": {
      "text/html": [
       "<div>\n",
       "<style scoped>\n",
       "    .dataframe tbody tr th:only-of-type {\n",
       "        vertical-align: middle;\n",
       "    }\n",
       "\n",
       "    .dataframe tbody tr th {\n",
       "        vertical-align: top;\n",
       "    }\n",
       "\n",
       "    .dataframe thead th {\n",
       "        text-align: right;\n",
       "    }\n",
       "</style>\n",
       "<table border=\"1\" class=\"dataframe\">\n",
       "  <thead>\n",
       "    <tr style=\"text-align: right;\">\n",
       "      <th></th>\n",
       "      <th>Temperature</th>\n",
       "      <th>Salinity</th>\n",
       "    </tr>\n",
       "  </thead>\n",
       "  <tbody>\n",
       "    <tr>\n",
       "      <th>2019</th>\n",
       "      <td>6.4</td>\n",
       "      <td>34.0</td>\n",
       "    </tr>\n",
       "    <tr>\n",
       "      <th>2020</th>\n",
       "      <td>7.5</td>\n",
       "      <td>33.5</td>\n",
       "    </tr>\n",
       "  </tbody>\n",
       "</table>\n",
       "</div>"
      ],
      "text/plain": [
       "      Temperature  Salinity\n",
       "2019          6.4      34.0\n",
       "2020          7.5      33.5"
      ]
     },
     "execution_count": 21,
     "metadata": {},
     "output_type": "execute_result"
    }
   ],
   "source": [
    "env_diff.loc[2019:2020] #noe getting just what we wanna"
   ]
  },
  {
   "cell_type": "code",
   "execution_count": 25,
   "id": "4a65a966-99c8-4b2f-953c-d4cc26ae4397",
   "metadata": {
    "tags": []
   },
   "outputs": [
    {
     "data": {
      "text/plain": [
       "34.5"
      ]
     },
     "execution_count": 25,
     "metadata": {},
     "output_type": "execute_result"
    }
   ],
   "source": [
    "##finding mean temperatures across all years \n",
    "temp=np.mean(env_diff['Temperature']) #remember, spelling has to be EXACT\n",
    "salt=np.mean(env_diff['Salinity'])\n"
   ]
  },
  {
   "cell_type": "code",
   "execution_count": 24,
   "id": "1a2b4dbf-0c93-4ac2-9314-e6a576586851",
   "metadata": {
    "tags": []
   },
   "outputs": [
    {
     "data": {
      "text/plain": [
       "2016    35.5\n",
       "2017    35.0\n",
       "2018    34.5\n",
       "2019    34.0\n",
       "2020    33.5\n",
       "Name: Salinity, dtype: float64"
      ]
     },
     "execution_count": 24,
     "metadata": {},
     "output_type": "execute_result"
    }
   ],
   "source": [
    "#just salinity graph\n",
    "env_diff.Salinity"
   ]
  },
  {
   "cell_type": "code",
   "execution_count": 28,
   "id": "809ce4c3-fad8-4143-a9ab-0b93855cf686",
   "metadata": {
    "tags": []
   },
   "outputs": [
    {
     "data": {
      "text/plain": [
       "34.0"
      ]
     },
     "execution_count": 28,
     "metadata": {},
     "output_type": "execute_result"
    }
   ],
   "source": [
    "#mean 2018 -2020\n",
    "np.mean(env_diff.loc[2018:2020,'Temperature'])\n",
    "np.mean(env_diff.loc[2018:2020,'Salinity'])"
   ]
  },
  {
   "cell_type": "code",
   "execution_count": 31,
   "id": "2820c29f-3dcc-4b05-9762-94e191eba77f",
   "metadata": {
    "tags": []
   },
   "outputs": [],
   "source": [
    "##x-array demo\n",
    "\n",
    "import xarray as xr"
   ]
  },
  {
   "cell_type": "code",
   "execution_count": 34,
   "id": "8449bd17-fe57-4593-99a5-0a480b69cbb3",
   "metadata": {
    "tags": []
   },
   "outputs": [
    {
     "data": {
      "text/html": [
       "<div><svg style=\"position: absolute; width: 0; height: 0; overflow: hidden\">\n",
       "<defs>\n",
       "<symbol id=\"icon-database\" viewBox=\"0 0 32 32\">\n",
       "<path d=\"M16 0c-8.837 0-16 2.239-16 5v4c0 2.761 7.163 5 16 5s16-2.239 16-5v-4c0-2.761-7.163-5-16-5z\"></path>\n",
       "<path d=\"M16 17c-8.837 0-16-2.239-16-5v6c0 2.761 7.163 5 16 5s16-2.239 16-5v-6c0 2.761-7.163 5-16 5z\"></path>\n",
       "<path d=\"M16 26c-8.837 0-16-2.239-16-5v6c0 2.761 7.163 5 16 5s16-2.239 16-5v-6c0 2.761-7.163 5-16 5z\"></path>\n",
       "</symbol>\n",
       "<symbol id=\"icon-file-text2\" viewBox=\"0 0 32 32\">\n",
       "<path d=\"M28.681 7.159c-0.694-0.947-1.662-2.053-2.724-3.116s-2.169-2.030-3.116-2.724c-1.612-1.182-2.393-1.319-2.841-1.319h-15.5c-1.378 0-2.5 1.121-2.5 2.5v27c0 1.378 1.122 2.5 2.5 2.5h23c1.378 0 2.5-1.122 2.5-2.5v-19.5c0-0.448-0.137-1.23-1.319-2.841zM24.543 5.457c0.959 0.959 1.712 1.825 2.268 2.543h-4.811v-4.811c0.718 0.556 1.584 1.309 2.543 2.268zM28 29.5c0 0.271-0.229 0.5-0.5 0.5h-23c-0.271 0-0.5-0.229-0.5-0.5v-27c0-0.271 0.229-0.5 0.5-0.5 0 0 15.499-0 15.5 0v7c0 0.552 0.448 1 1 1h7v19.5z\"></path>\n",
       "<path d=\"M23 26h-14c-0.552 0-1-0.448-1-1s0.448-1 1-1h14c0.552 0 1 0.448 1 1s-0.448 1-1 1z\"></path>\n",
       "<path d=\"M23 22h-14c-0.552 0-1-0.448-1-1s0.448-1 1-1h14c0.552 0 1 0.448 1 1s-0.448 1-1 1z\"></path>\n",
       "<path d=\"M23 18h-14c-0.552 0-1-0.448-1-1s0.448-1 1-1h14c0.552 0 1 0.448 1 1s-0.448 1-1 1z\"></path>\n",
       "</symbol>\n",
       "</defs>\n",
       "</svg>\n",
       "<style>/* CSS stylesheet for displaying xarray objects in jupyterlab.\n",
       " *\n",
       " */\n",
       "\n",
       ":root {\n",
       "  --xr-font-color0: var(--jp-content-font-color0, rgba(0, 0, 0, 1));\n",
       "  --xr-font-color2: var(--jp-content-font-color2, rgba(0, 0, 0, 0.54));\n",
       "  --xr-font-color3: var(--jp-content-font-color3, rgba(0, 0, 0, 0.38));\n",
       "  --xr-border-color: var(--jp-border-color2, #e0e0e0);\n",
       "  --xr-disabled-color: var(--jp-layout-color3, #bdbdbd);\n",
       "  --xr-background-color: var(--jp-layout-color0, white);\n",
       "  --xr-background-color-row-even: var(--jp-layout-color1, white);\n",
       "  --xr-background-color-row-odd: var(--jp-layout-color2, #eeeeee);\n",
       "}\n",
       "\n",
       "html[theme=dark],\n",
       "body[data-theme=dark],\n",
       "body.vscode-dark {\n",
       "  --xr-font-color0: rgba(255, 255, 255, 1);\n",
       "  --xr-font-color2: rgba(255, 255, 255, 0.54);\n",
       "  --xr-font-color3: rgba(255, 255, 255, 0.38);\n",
       "  --xr-border-color: #1F1F1F;\n",
       "  --xr-disabled-color: #515151;\n",
       "  --xr-background-color: #111111;\n",
       "  --xr-background-color-row-even: #111111;\n",
       "  --xr-background-color-row-odd: #313131;\n",
       "}\n",
       "\n",
       ".xr-wrap {\n",
       "  display: block !important;\n",
       "  min-width: 300px;\n",
       "  max-width: 700px;\n",
       "}\n",
       "\n",
       ".xr-text-repr-fallback {\n",
       "  /* fallback to plain text repr when CSS is not injected (untrusted notebook) */\n",
       "  display: none;\n",
       "}\n",
       "\n",
       ".xr-header {\n",
       "  padding-top: 6px;\n",
       "  padding-bottom: 6px;\n",
       "  margin-bottom: 4px;\n",
       "  border-bottom: solid 1px var(--xr-border-color);\n",
       "}\n",
       "\n",
       ".xr-header > div,\n",
       ".xr-header > ul {\n",
       "  display: inline;\n",
       "  margin-top: 0;\n",
       "  margin-bottom: 0;\n",
       "}\n",
       "\n",
       ".xr-obj-type,\n",
       ".xr-array-name {\n",
       "  margin-left: 2px;\n",
       "  margin-right: 10px;\n",
       "}\n",
       "\n",
       ".xr-obj-type {\n",
       "  color: var(--xr-font-color2);\n",
       "}\n",
       "\n",
       ".xr-sections {\n",
       "  padding-left: 0 !important;\n",
       "  display: grid;\n",
       "  grid-template-columns: 150px auto auto 1fr 20px 20px;\n",
       "}\n",
       "\n",
       ".xr-section-item {\n",
       "  display: contents;\n",
       "}\n",
       "\n",
       ".xr-section-item input {\n",
       "  display: none;\n",
       "}\n",
       "\n",
       ".xr-section-item input + label {\n",
       "  color: var(--xr-disabled-color);\n",
       "}\n",
       "\n",
       ".xr-section-item input:enabled + label {\n",
       "  cursor: pointer;\n",
       "  color: var(--xr-font-color2);\n",
       "}\n",
       "\n",
       ".xr-section-item input:enabled + label:hover {\n",
       "  color: var(--xr-font-color0);\n",
       "}\n",
       "\n",
       ".xr-section-summary {\n",
       "  grid-column: 1;\n",
       "  color: var(--xr-font-color2);\n",
       "  font-weight: 500;\n",
       "}\n",
       "\n",
       ".xr-section-summary > span {\n",
       "  display: inline-block;\n",
       "  padding-left: 0.5em;\n",
       "}\n",
       "\n",
       ".xr-section-summary-in:disabled + label {\n",
       "  color: var(--xr-font-color2);\n",
       "}\n",
       "\n",
       ".xr-section-summary-in + label:before {\n",
       "  display: inline-block;\n",
       "  content: '►';\n",
       "  font-size: 11px;\n",
       "  width: 15px;\n",
       "  text-align: center;\n",
       "}\n",
       "\n",
       ".xr-section-summary-in:disabled + label:before {\n",
       "  color: var(--xr-disabled-color);\n",
       "}\n",
       "\n",
       ".xr-section-summary-in:checked + label:before {\n",
       "  content: '▼';\n",
       "}\n",
       "\n",
       ".xr-section-summary-in:checked + label > span {\n",
       "  display: none;\n",
       "}\n",
       "\n",
       ".xr-section-summary,\n",
       ".xr-section-inline-details {\n",
       "  padding-top: 4px;\n",
       "  padding-bottom: 4px;\n",
       "}\n",
       "\n",
       ".xr-section-inline-details {\n",
       "  grid-column: 2 / -1;\n",
       "}\n",
       "\n",
       ".xr-section-details {\n",
       "  display: none;\n",
       "  grid-column: 1 / -1;\n",
       "  margin-bottom: 5px;\n",
       "}\n",
       "\n",
       ".xr-section-summary-in:checked ~ .xr-section-details {\n",
       "  display: contents;\n",
       "}\n",
       "\n",
       ".xr-array-wrap {\n",
       "  grid-column: 1 / -1;\n",
       "  display: grid;\n",
       "  grid-template-columns: 20px auto;\n",
       "}\n",
       "\n",
       ".xr-array-wrap > label {\n",
       "  grid-column: 1;\n",
       "  vertical-align: top;\n",
       "}\n",
       "\n",
       ".xr-preview {\n",
       "  color: var(--xr-font-color3);\n",
       "}\n",
       "\n",
       ".xr-array-preview,\n",
       ".xr-array-data {\n",
       "  padding: 0 5px !important;\n",
       "  grid-column: 2;\n",
       "}\n",
       "\n",
       ".xr-array-data,\n",
       ".xr-array-in:checked ~ .xr-array-preview {\n",
       "  display: none;\n",
       "}\n",
       "\n",
       ".xr-array-in:checked ~ .xr-array-data,\n",
       ".xr-array-preview {\n",
       "  display: inline-block;\n",
       "}\n",
       "\n",
       ".xr-dim-list {\n",
       "  display: inline-block !important;\n",
       "  list-style: none;\n",
       "  padding: 0 !important;\n",
       "  margin: 0;\n",
       "}\n",
       "\n",
       ".xr-dim-list li {\n",
       "  display: inline-block;\n",
       "  padding: 0;\n",
       "  margin: 0;\n",
       "}\n",
       "\n",
       ".xr-dim-list:before {\n",
       "  content: '(';\n",
       "}\n",
       "\n",
       ".xr-dim-list:after {\n",
       "  content: ')';\n",
       "}\n",
       "\n",
       ".xr-dim-list li:not(:last-child):after {\n",
       "  content: ',';\n",
       "  padding-right: 5px;\n",
       "}\n",
       "\n",
       ".xr-has-index {\n",
       "  font-weight: bold;\n",
       "}\n",
       "\n",
       ".xr-var-list,\n",
       ".xr-var-item {\n",
       "  display: contents;\n",
       "}\n",
       "\n",
       ".xr-var-item > div,\n",
       ".xr-var-item label,\n",
       ".xr-var-item > .xr-var-name span {\n",
       "  background-color: var(--xr-background-color-row-even);\n",
       "  margin-bottom: 0;\n",
       "}\n",
       "\n",
       ".xr-var-item > .xr-var-name:hover span {\n",
       "  padding-right: 5px;\n",
       "}\n",
       "\n",
       ".xr-var-list > li:nth-child(odd) > div,\n",
       ".xr-var-list > li:nth-child(odd) > label,\n",
       ".xr-var-list > li:nth-child(odd) > .xr-var-name span {\n",
       "  background-color: var(--xr-background-color-row-odd);\n",
       "}\n",
       "\n",
       ".xr-var-name {\n",
       "  grid-column: 1;\n",
       "}\n",
       "\n",
       ".xr-var-dims {\n",
       "  grid-column: 2;\n",
       "}\n",
       "\n",
       ".xr-var-dtype {\n",
       "  grid-column: 3;\n",
       "  text-align: right;\n",
       "  color: var(--xr-font-color2);\n",
       "}\n",
       "\n",
       ".xr-var-preview {\n",
       "  grid-column: 4;\n",
       "}\n",
       "\n",
       ".xr-index-preview {\n",
       "  grid-column: 2 / 5;\n",
       "  color: var(--xr-font-color2);\n",
       "}\n",
       "\n",
       ".xr-var-name,\n",
       ".xr-var-dims,\n",
       ".xr-var-dtype,\n",
       ".xr-preview,\n",
       ".xr-attrs dt {\n",
       "  white-space: nowrap;\n",
       "  overflow: hidden;\n",
       "  text-overflow: ellipsis;\n",
       "  padding-right: 10px;\n",
       "}\n",
       "\n",
       ".xr-var-name:hover,\n",
       ".xr-var-dims:hover,\n",
       ".xr-var-dtype:hover,\n",
       ".xr-attrs dt:hover {\n",
       "  overflow: visible;\n",
       "  width: auto;\n",
       "  z-index: 1;\n",
       "}\n",
       "\n",
       ".xr-var-attrs,\n",
       ".xr-var-data,\n",
       ".xr-index-data {\n",
       "  display: none;\n",
       "  background-color: var(--xr-background-color) !important;\n",
       "  padding-bottom: 5px !important;\n",
       "}\n",
       "\n",
       ".xr-var-attrs-in:checked ~ .xr-var-attrs,\n",
       ".xr-var-data-in:checked ~ .xr-var-data,\n",
       ".xr-index-data-in:checked ~ .xr-index-data {\n",
       "  display: block;\n",
       "}\n",
       "\n",
       ".xr-var-data > table {\n",
       "  float: right;\n",
       "}\n",
       "\n",
       ".xr-var-name span,\n",
       ".xr-var-data,\n",
       ".xr-index-name div,\n",
       ".xr-index-data,\n",
       ".xr-attrs {\n",
       "  padding-left: 25px !important;\n",
       "}\n",
       "\n",
       ".xr-attrs,\n",
       ".xr-var-attrs,\n",
       ".xr-var-data,\n",
       ".xr-index-data {\n",
       "  grid-column: 1 / -1;\n",
       "}\n",
       "\n",
       "dl.xr-attrs {\n",
       "  padding: 0;\n",
       "  margin: 0;\n",
       "  display: grid;\n",
       "  grid-template-columns: 125px auto;\n",
       "}\n",
       "\n",
       ".xr-attrs dt,\n",
       ".xr-attrs dd {\n",
       "  padding: 0;\n",
       "  margin: 0;\n",
       "  float: left;\n",
       "  padding-right: 10px;\n",
       "  width: auto;\n",
       "}\n",
       "\n",
       ".xr-attrs dt {\n",
       "  font-weight: normal;\n",
       "  grid-column: 1;\n",
       "}\n",
       "\n",
       ".xr-attrs dt:hover span {\n",
       "  display: inline-block;\n",
       "  background: var(--xr-background-color);\n",
       "  padding-right: 10px;\n",
       "}\n",
       "\n",
       ".xr-attrs dd {\n",
       "  grid-column: 2;\n",
       "  white-space: pre-wrap;\n",
       "  word-break: break-all;\n",
       "}\n",
       "\n",
       ".xr-icon-database,\n",
       ".xr-icon-file-text2,\n",
       ".xr-no-icon {\n",
       "  display: inline-block;\n",
       "  vertical-align: middle;\n",
       "  width: 1em;\n",
       "  height: 1.5em !important;\n",
       "  stroke-width: 0;\n",
       "  stroke: currentColor;\n",
       "  fill: currentColor;\n",
       "}\n",
       "</style><pre class='xr-text-repr-fallback'>&lt;xarray.Dataset&gt;\n",
       "Dimensions:             (abundance_time: 25, division_time: 24,\n",
       "                         carbonloss_time: 24, carbonfix_time: 25)\n",
       "Coordinates:\n",
       "  * abundance_time      (abundance_time) int64 0 2 4 6 8 10 ... 40 42 44 46 48\n",
       "  * division_time       (division_time) int64 1 3 5 7 9 11 ... 37 39 41 43 45 47\n",
       "  * carbonloss_time     (carbonloss_time) int64 1 3 5 7 9 11 ... 39 41 43 45 47\n",
       "  * carbonfix_time      (carbonfix_time) int64 1 3 5 7 9 11 ... 41 43 45 47 49\n",
       "Data variables: (12/14)\n",
       "    abundance           (abundance_time) float64 ...\n",
       "    abundance_sd        (abundance_time) float64 ...\n",
       "    division            (division_time) float64 ...\n",
       "    division_sd         (division_time) float64 ...\n",
       "    dailydivision       float64 ...\n",
       "    dailydivision_sd    float64 ...\n",
       "    ...                  ...\n",
       "    dailycarbonloss     float64 ...\n",
       "    dailycarbonloss_sd  float64 ...\n",
       "    carbonfix           (carbonfix_time) float64 ...\n",
       "    carbonfix_sd        (carbonfix_time) float64 ...\n",
       "    dailycarbonfix      float64 ...\n",
       "    dailycarbonfix_sd   float64 ...\n",
       "Attributes:\n",
       "    created_by:               propagate_uncertainty.ipynb\n",
       "    correct_abundance_mean:   1\n",
       "    scale_error_with_signal:  1\n",
       "    loss_formulation:         cellsizebased</pre><div class='xr-wrap' style='display:none'><div class='xr-header'><div class='xr-obj-type'>xarray.Dataset</div></div><ul class='xr-sections'><li class='xr-section-item'><input id='section-f551e906-e0ce-4149-a7ef-4c9101044a5c' class='xr-section-summary-in' type='checkbox' disabled ><label for='section-f551e906-e0ce-4149-a7ef-4c9101044a5c' class='xr-section-summary'  title='Expand/collapse section'>Dimensions:</label><div class='xr-section-inline-details'><ul class='xr-dim-list'><li><span class='xr-has-index'>abundance_time</span>: 25</li><li><span class='xr-has-index'>division_time</span>: 24</li><li><span class='xr-has-index'>carbonloss_time</span>: 24</li><li><span class='xr-has-index'>carbonfix_time</span>: 25</li></ul></div><div class='xr-section-details'></div></li><li class='xr-section-item'><input id='section-ef8b49f1-62da-4cf4-ae75-e74c44607161' class='xr-section-summary-in' type='checkbox'  checked><label for='section-ef8b49f1-62da-4cf4-ae75-e74c44607161' class='xr-section-summary' >Coordinates: <span>(4)</span></label><div class='xr-section-inline-details'></div><div class='xr-section-details'><ul class='xr-var-list'><li class='xr-var-item'><div class='xr-var-name'><span class='xr-has-index'>abundance_time</span></div><div class='xr-var-dims'>(abundance_time)</div><div class='xr-var-dtype'>int64</div><div class='xr-var-preview xr-preview'>0 2 4 6 8 10 ... 38 40 42 44 46 48</div><input id='attrs-7b3b38f8-a660-4dd2-8738-f2dd89483cf8' class='xr-var-attrs-in' type='checkbox' ><label for='attrs-7b3b38f8-a660-4dd2-8738-f2dd89483cf8' title='Show/Hide attributes'><svg class='icon xr-icon-file-text2'><use xlink:href='#icon-file-text2'></use></svg></label><input id='data-32fe95ee-927f-4fa9-92c5-75bb78353209' class='xr-var-data-in' type='checkbox'><label for='data-32fe95ee-927f-4fa9-92c5-75bb78353209' title='Show/Hide data repr'><svg class='icon xr-icon-database'><use xlink:href='#icon-database'></use></svg></label><div class='xr-var-attrs'><dl class='xr-attrs'><dt><span>units :</span></dt><dd>hours since start of experiment</dd></dl></div><div class='xr-var-data'><pre>array([ 0,  2,  4,  6,  8, 10, 12, 14, 16, 18, 20, 22, 24, 26, 28, 30, 32, 34,\n",
       "       36, 38, 40, 42, 44, 46, 48])</pre></div></li><li class='xr-var-item'><div class='xr-var-name'><span class='xr-has-index'>division_time</span></div><div class='xr-var-dims'>(division_time)</div><div class='xr-var-dtype'>int64</div><div class='xr-var-preview xr-preview'>1 3 5 7 9 11 ... 37 39 41 43 45 47</div><input id='attrs-01f62dc5-e384-4daf-9ee0-305117f1d04a' class='xr-var-attrs-in' type='checkbox' ><label for='attrs-01f62dc5-e384-4daf-9ee0-305117f1d04a' title='Show/Hide attributes'><svg class='icon xr-icon-file-text2'><use xlink:href='#icon-file-text2'></use></svg></label><input id='data-c1dbd595-007c-4fba-81aa-57d89d4d93fd' class='xr-var-data-in' type='checkbox'><label for='data-c1dbd595-007c-4fba-81aa-57d89d4d93fd' title='Show/Hide data repr'><svg class='icon xr-icon-database'><use xlink:href='#icon-database'></use></svg></label><div class='xr-var-attrs'><dl class='xr-attrs'><dt><span>units :</span></dt><dd>hours since start of experiment</dd></dl></div><div class='xr-var-data'><pre>array([ 1,  3,  5,  7,  9, 11, 13, 15, 17, 19, 21, 23, 25, 27, 29, 31, 33, 35,\n",
       "       37, 39, 41, 43, 45, 47])</pre></div></li><li class='xr-var-item'><div class='xr-var-name'><span class='xr-has-index'>carbonloss_time</span></div><div class='xr-var-dims'>(carbonloss_time)</div><div class='xr-var-dtype'>int64</div><div class='xr-var-preview xr-preview'>1 3 5 7 9 11 ... 37 39 41 43 45 47</div><input id='attrs-43761290-dfc2-4c07-a954-4d4d2d72a7fa' class='xr-var-attrs-in' type='checkbox' ><label for='attrs-43761290-dfc2-4c07-a954-4d4d2d72a7fa' title='Show/Hide attributes'><svg class='icon xr-icon-file-text2'><use xlink:href='#icon-file-text2'></use></svg></label><input id='data-36d16a67-06c4-4a01-a237-1b1c10fe39fd' class='xr-var-data-in' type='checkbox'><label for='data-36d16a67-06c4-4a01-a237-1b1c10fe39fd' title='Show/Hide data repr'><svg class='icon xr-icon-database'><use xlink:href='#icon-database'></use></svg></label><div class='xr-var-attrs'><dl class='xr-attrs'><dt><span>units :</span></dt><dd>hours since start of experiment</dd></dl></div><div class='xr-var-data'><pre>array([ 1,  3,  5,  7,  9, 11, 13, 15, 17, 19, 21, 23, 25, 27, 29, 31, 33, 35,\n",
       "       37, 39, 41, 43, 45, 47])</pre></div></li><li class='xr-var-item'><div class='xr-var-name'><span class='xr-has-index'>carbonfix_time</span></div><div class='xr-var-dims'>(carbonfix_time)</div><div class='xr-var-dtype'>int64</div><div class='xr-var-preview xr-preview'>1 3 5 7 9 11 ... 39 41 43 45 47 49</div><input id='attrs-1cdf72ba-c6ee-4be0-9aaf-8fb75892a93c' class='xr-var-attrs-in' type='checkbox' ><label for='attrs-1cdf72ba-c6ee-4be0-9aaf-8fb75892a93c' title='Show/Hide attributes'><svg class='icon xr-icon-file-text2'><use xlink:href='#icon-file-text2'></use></svg></label><input id='data-611dbc3c-2a1e-4747-b0e0-8e829ebee373' class='xr-var-data-in' type='checkbox'><label for='data-611dbc3c-2a1e-4747-b0e0-8e829ebee373' title='Show/Hide data repr'><svg class='icon xr-icon-database'><use xlink:href='#icon-database'></use></svg></label><div class='xr-var-attrs'><dl class='xr-attrs'><dt><span>units :</span></dt><dd>hours since start of experiment</dd></dl></div><div class='xr-var-data'><pre>array([ 1,  3,  5,  7,  9, 11, 13, 15, 17, 19, 21, 23, 25, 27, 29, 31, 33, 35,\n",
       "       37, 39, 41, 43, 45, 47, 49])</pre></div></li></ul></div></li><li class='xr-section-item'><input id='section-d4ea16b7-7c61-4e31-9bfe-38a464b7863b' class='xr-section-summary-in' type='checkbox'  checked><label for='section-d4ea16b7-7c61-4e31-9bfe-38a464b7863b' class='xr-section-summary' >Data variables: <span>(14)</span></label><div class='xr-section-inline-details'></div><div class='xr-section-details'><ul class='xr-var-list'><li class='xr-var-item'><div class='xr-var-name'><span>abundance</span></div><div class='xr-var-dims'>(abundance_time)</div><div class='xr-var-dtype'>float64</div><div class='xr-var-preview xr-preview'>...</div><input id='attrs-6b1db688-695e-45aa-a678-13b4d969b197' class='xr-var-attrs-in' type='checkbox' ><label for='attrs-6b1db688-695e-45aa-a678-13b4d969b197' title='Show/Hide attributes'><svg class='icon xr-icon-file-text2'><use xlink:href='#icon-file-text2'></use></svg></label><input id='data-e6a93468-d92b-47d7-8f8d-d112cf6b12be' class='xr-var-data-in' type='checkbox'><label for='data-e6a93468-d92b-47d7-8f8d-d112cf6b12be' title='Show/Hide data repr'><svg class='icon xr-icon-database'><use xlink:href='#icon-database'></use></svg></label><div class='xr-var-attrs'><dl class='xr-attrs'><dt><span>long_name :</span></dt><dd>cell abundance</dd><dt><span>units :</span></dt><dd>cells ml$^{-1}$</dd></dl></div><div class='xr-var-data'><pre>[25 values with dtype=float64]</pre></div></li><li class='xr-var-item'><div class='xr-var-name'><span>abundance_sd</span></div><div class='xr-var-dims'>(abundance_time)</div><div class='xr-var-dtype'>float64</div><div class='xr-var-preview xr-preview'>...</div><input id='attrs-e556c2a0-5df6-436f-8f80-a3e5922561aa' class='xr-var-attrs-in' type='checkbox' ><label for='attrs-e556c2a0-5df6-436f-8f80-a3e5922561aa' title='Show/Hide attributes'><svg class='icon xr-icon-file-text2'><use xlink:href='#icon-file-text2'></use></svg></label><input id='data-cc7edb9a-49c9-413c-a855-edc350e85bc1' class='xr-var-data-in' type='checkbox'><label for='data-cc7edb9a-49c9-413c-a855-edc350e85bc1' title='Show/Hide data repr'><svg class='icon xr-icon-database'><use xlink:href='#icon-database'></use></svg></label><div class='xr-var-attrs'><dl class='xr-attrs'><dt><span>long_name :</span></dt><dd>standard deviation of cell abundance</dd><dt><span>units :</span></dt><dd>cells ml$^{-1}$</dd></dl></div><div class='xr-var-data'><pre>[25 values with dtype=float64]</pre></div></li><li class='xr-var-item'><div class='xr-var-name'><span>division</span></div><div class='xr-var-dims'>(division_time)</div><div class='xr-var-dtype'>float64</div><div class='xr-var-preview xr-preview'>...</div><input id='attrs-cb26c541-5232-48ed-b148-92761adc8db3' class='xr-var-attrs-in' type='checkbox' ><label for='attrs-cb26c541-5232-48ed-b148-92761adc8db3' title='Show/Hide attributes'><svg class='icon xr-icon-file-text2'><use xlink:href='#icon-file-text2'></use></svg></label><input id='data-7ff4560f-9b90-45be-ae70-1c7368df0020' class='xr-var-data-in' type='checkbox'><label for='data-7ff4560f-9b90-45be-ae70-1c7368df0020' title='Show/Hide data repr'><svg class='icon xr-icon-database'><use xlink:href='#icon-database'></use></svg></label><div class='xr-var-attrs'><dl class='xr-attrs'><dt><span>long_name :</span></dt><dd>cell division rate</dd><dt><span>units :</span></dt><dd>h$^{-1}$</dd></dl></div><div class='xr-var-data'><pre>[24 values with dtype=float64]</pre></div></li><li class='xr-var-item'><div class='xr-var-name'><span>division_sd</span></div><div class='xr-var-dims'>(division_time)</div><div class='xr-var-dtype'>float64</div><div class='xr-var-preview xr-preview'>...</div><input id='attrs-41b1faae-a108-4d6a-a24a-8ee427e84350' class='xr-var-attrs-in' type='checkbox' ><label for='attrs-41b1faae-a108-4d6a-a24a-8ee427e84350' title='Show/Hide attributes'><svg class='icon xr-icon-file-text2'><use xlink:href='#icon-file-text2'></use></svg></label><input id='data-bb879fc4-f9ff-451d-83b3-5127f44db4a9' class='xr-var-data-in' type='checkbox'><label for='data-bb879fc4-f9ff-451d-83b3-5127f44db4a9' title='Show/Hide data repr'><svg class='icon xr-icon-database'><use xlink:href='#icon-database'></use></svg></label><div class='xr-var-attrs'><dl class='xr-attrs'><dt><span>long_name :</span></dt><dd>standard deviation of cell division rate</dd><dt><span>units :</span></dt><dd>h$^{-1}$</dd></dl></div><div class='xr-var-data'><pre>[24 values with dtype=float64]</pre></div></li><li class='xr-var-item'><div class='xr-var-name'><span>dailydivision</span></div><div class='xr-var-dims'>()</div><div class='xr-var-dtype'>float64</div><div class='xr-var-preview xr-preview'>...</div><input id='attrs-4dd77738-df36-4415-ae1f-fe2ad97d544e' class='xr-var-attrs-in' type='checkbox' ><label for='attrs-4dd77738-df36-4415-ae1f-fe2ad97d544e' title='Show/Hide attributes'><svg class='icon xr-icon-file-text2'><use xlink:href='#icon-file-text2'></use></svg></label><input id='data-1be71edd-4119-46c6-9663-9dcf2c59ff21' class='xr-var-data-in' type='checkbox'><label for='data-1be71edd-4119-46c6-9663-9dcf2c59ff21' title='Show/Hide data repr'><svg class='icon xr-icon-database'><use xlink:href='#icon-database'></use></svg></label><div class='xr-var-attrs'><dl class='xr-attrs'><dt><span>long_name :</span></dt><dd>mean daily cell division rate</dd><dt><span>units :</span></dt><dd>d$^{-1}$</dd></dl></div><div class='xr-var-data'><pre>[1 values with dtype=float64]</pre></div></li><li class='xr-var-item'><div class='xr-var-name'><span>dailydivision_sd</span></div><div class='xr-var-dims'>()</div><div class='xr-var-dtype'>float64</div><div class='xr-var-preview xr-preview'>...</div><input id='attrs-4c78b17e-0bf5-4624-9a5c-20ff0561c560' class='xr-var-attrs-in' type='checkbox' ><label for='attrs-4c78b17e-0bf5-4624-9a5c-20ff0561c560' title='Show/Hide attributes'><svg class='icon xr-icon-file-text2'><use xlink:href='#icon-file-text2'></use></svg></label><input id='data-cd56ed9d-0fff-4335-8e34-aa0f6ac4d2ca' class='xr-var-data-in' type='checkbox'><label for='data-cd56ed9d-0fff-4335-8e34-aa0f6ac4d2ca' title='Show/Hide data repr'><svg class='icon xr-icon-database'><use xlink:href='#icon-database'></use></svg></label><div class='xr-var-attrs'><dl class='xr-attrs'><dt><span>long_name :</span></dt><dd>standard deviation of daily cell division rate</dd><dt><span>units :</span></dt><dd>d$^{-1}$</dd></dl></div><div class='xr-var-data'><pre>[1 values with dtype=float64]</pre></div></li><li class='xr-var-item'><div class='xr-var-name'><span>carbonloss</span></div><div class='xr-var-dims'>(carbonloss_time)</div><div class='xr-var-dtype'>float64</div><div class='xr-var-preview xr-preview'>...</div><input id='attrs-9d1358ba-a83c-4dd5-bde4-afa49118935e' class='xr-var-attrs-in' type='checkbox' ><label for='attrs-9d1358ba-a83c-4dd5-bde4-afa49118935e' title='Show/Hide attributes'><svg class='icon xr-icon-file-text2'><use xlink:href='#icon-file-text2'></use></svg></label><input id='data-8c297127-f86a-4aed-b696-b76ff580d5ef' class='xr-var-data-in' type='checkbox'><label for='data-8c297127-f86a-4aed-b696-b76ff580d5ef' title='Show/Hide data repr'><svg class='icon xr-icon-database'><use xlink:href='#icon-database'></use></svg></label><div class='xr-var-attrs'><dl class='xr-attrs'><dt><span>long_name :</span></dt><dd>cell carbon loss rate</dd><dt><span>units :</span></dt><dd>fg C cell$^{-1}$ h$^{-1}$</dd></dl></div><div class='xr-var-data'><pre>[24 values with dtype=float64]</pre></div></li><li class='xr-var-item'><div class='xr-var-name'><span>carbonloss_sd</span></div><div class='xr-var-dims'>(carbonloss_time)</div><div class='xr-var-dtype'>float64</div><div class='xr-var-preview xr-preview'>...</div><input id='attrs-3aefb6b4-74a0-4148-a575-c5142db6093a' class='xr-var-attrs-in' type='checkbox' ><label for='attrs-3aefb6b4-74a0-4148-a575-c5142db6093a' title='Show/Hide attributes'><svg class='icon xr-icon-file-text2'><use xlink:href='#icon-file-text2'></use></svg></label><input id='data-25c55b94-20b7-42ef-8efc-fa05ae69cfa6' class='xr-var-data-in' type='checkbox'><label for='data-25c55b94-20b7-42ef-8efc-fa05ae69cfa6' title='Show/Hide data repr'><svg class='icon xr-icon-database'><use xlink:href='#icon-database'></use></svg></label><div class='xr-var-attrs'><dl class='xr-attrs'><dt><span>long_name :</span></dt><dd>standard deviation of cell carbon loss rate</dd><dt><span>units :</span></dt><dd>fg C cell$^{-1}$ h$^{-1}$</dd></dl></div><div class='xr-var-data'><pre>[24 values with dtype=float64]</pre></div></li><li class='xr-var-item'><div class='xr-var-name'><span>dailycarbonloss</span></div><div class='xr-var-dims'>()</div><div class='xr-var-dtype'>float64</div><div class='xr-var-preview xr-preview'>...</div><input id='attrs-8a2cc431-77b0-416f-9d4a-74a3234b1da3' class='xr-var-attrs-in' type='checkbox' ><label for='attrs-8a2cc431-77b0-416f-9d4a-74a3234b1da3' title='Show/Hide attributes'><svg class='icon xr-icon-file-text2'><use xlink:href='#icon-file-text2'></use></svg></label><input id='data-6a834dda-ce86-493e-8812-1201baf4b8a0' class='xr-var-data-in' type='checkbox'><label for='data-6a834dda-ce86-493e-8812-1201baf4b8a0' title='Show/Hide data repr'><svg class='icon xr-icon-database'><use xlink:href='#icon-database'></use></svg></label><div class='xr-var-attrs'><dl class='xr-attrs'><dt><span>long_name :</span></dt><dd>mean daily cell carbon loss rate</dd><dt><span>units :</span></dt><dd>fg C cell$^{-1}$ d$^{-1}$</dd></dl></div><div class='xr-var-data'><pre>[1 values with dtype=float64]</pre></div></li><li class='xr-var-item'><div class='xr-var-name'><span>dailycarbonloss_sd</span></div><div class='xr-var-dims'>()</div><div class='xr-var-dtype'>float64</div><div class='xr-var-preview xr-preview'>...</div><input id='attrs-f46f5b70-b0d4-45a2-9ad7-e7a91754f185' class='xr-var-attrs-in' type='checkbox' ><label for='attrs-f46f5b70-b0d4-45a2-9ad7-e7a91754f185' title='Show/Hide attributes'><svg class='icon xr-icon-file-text2'><use xlink:href='#icon-file-text2'></use></svg></label><input id='data-1b73a42e-8943-4b1c-99a2-eb07865ec36e' class='xr-var-data-in' type='checkbox'><label for='data-1b73a42e-8943-4b1c-99a2-eb07865ec36e' title='Show/Hide data repr'><svg class='icon xr-icon-database'><use xlink:href='#icon-database'></use></svg></label><div class='xr-var-attrs'><dl class='xr-attrs'><dt><span>long_name :</span></dt><dd>standard deviation of daily cell carbon loss rate</dd><dt><span>units :</span></dt><dd>fg C cell$^{-1}$ d$^{-1}$</dd></dl></div><div class='xr-var-data'><pre>[1 values with dtype=float64]</pre></div></li><li class='xr-var-item'><div class='xr-var-name'><span>carbonfix</span></div><div class='xr-var-dims'>(carbonfix_time)</div><div class='xr-var-dtype'>float64</div><div class='xr-var-preview xr-preview'>...</div><input id='attrs-af0533f0-82df-4ca8-be76-ce33966a7dae' class='xr-var-attrs-in' type='checkbox' ><label for='attrs-af0533f0-82df-4ca8-be76-ce33966a7dae' title='Show/Hide attributes'><svg class='icon xr-icon-file-text2'><use xlink:href='#icon-file-text2'></use></svg></label><input id='data-60248dce-0adb-42a1-948a-994ca85574cc' class='xr-var-data-in' type='checkbox'><label for='data-60248dce-0adb-42a1-948a-994ca85574cc' title='Show/Hide data repr'><svg class='icon xr-icon-database'><use xlink:href='#icon-database'></use></svg></label><div class='xr-var-attrs'><dl class='xr-attrs'><dt><span>long_name :</span></dt><dd>cell carbon fixation rate</dd><dt><span>units :</span></dt><dd>fg C cell$^{-1}$ h$^{-1}$</dd></dl></div><div class='xr-var-data'><pre>[25 values with dtype=float64]</pre></div></li><li class='xr-var-item'><div class='xr-var-name'><span>carbonfix_sd</span></div><div class='xr-var-dims'>(carbonfix_time)</div><div class='xr-var-dtype'>float64</div><div class='xr-var-preview xr-preview'>...</div><input id='attrs-f482e562-1067-46e3-a083-8e9f9835349a' class='xr-var-attrs-in' type='checkbox' ><label for='attrs-f482e562-1067-46e3-a083-8e9f9835349a' title='Show/Hide attributes'><svg class='icon xr-icon-file-text2'><use xlink:href='#icon-file-text2'></use></svg></label><input id='data-aed3efb1-2884-4155-955f-7a11470e7bac' class='xr-var-data-in' type='checkbox'><label for='data-aed3efb1-2884-4155-955f-7a11470e7bac' title='Show/Hide data repr'><svg class='icon xr-icon-database'><use xlink:href='#icon-database'></use></svg></label><div class='xr-var-attrs'><dl class='xr-attrs'><dt><span>long_name :</span></dt><dd>standard deviation of cell carbon fixation rate</dd><dt><span>units :</span></dt><dd>fg C cell$^{-1}$ h$^{-1}$</dd></dl></div><div class='xr-var-data'><pre>[25 values with dtype=float64]</pre></div></li><li class='xr-var-item'><div class='xr-var-name'><span>dailycarbonfix</span></div><div class='xr-var-dims'>()</div><div class='xr-var-dtype'>float64</div><div class='xr-var-preview xr-preview'>...</div><input id='attrs-ff5b181c-d811-46d6-980b-3ca5cdb571a7' class='xr-var-attrs-in' type='checkbox' ><label for='attrs-ff5b181c-d811-46d6-980b-3ca5cdb571a7' title='Show/Hide attributes'><svg class='icon xr-icon-file-text2'><use xlink:href='#icon-file-text2'></use></svg></label><input id='data-f6ce094f-2dcc-43c2-adb4-1715e6259cef' class='xr-var-data-in' type='checkbox'><label for='data-f6ce094f-2dcc-43c2-adb4-1715e6259cef' title='Show/Hide data repr'><svg class='icon xr-icon-database'><use xlink:href='#icon-database'></use></svg></label><div class='xr-var-attrs'><dl class='xr-attrs'><dt><span>long_name :</span></dt><dd>mean daily cell carbon fixation rate</dd><dt><span>units :</span></dt><dd>fg C cell$^{-1}$ d$^{-1}$</dd></dl></div><div class='xr-var-data'><pre>[1 values with dtype=float64]</pre></div></li><li class='xr-var-item'><div class='xr-var-name'><span>dailycarbonfix_sd</span></div><div class='xr-var-dims'>()</div><div class='xr-var-dtype'>float64</div><div class='xr-var-preview xr-preview'>...</div><input id='attrs-25d09dee-ba3a-4d48-b61f-ab44dccd3365' class='xr-var-attrs-in' type='checkbox' ><label for='attrs-25d09dee-ba3a-4d48-b61f-ab44dccd3365' title='Show/Hide attributes'><svg class='icon xr-icon-file-text2'><use xlink:href='#icon-file-text2'></use></svg></label><input id='data-deb0fcb5-9155-4da4-a6e9-ccb24ca9c4cf' class='xr-var-data-in' type='checkbox'><label for='data-deb0fcb5-9155-4da4-a6e9-ccb24ca9c4cf' title='Show/Hide data repr'><svg class='icon xr-icon-database'><use xlink:href='#icon-database'></use></svg></label><div class='xr-var-attrs'><dl class='xr-attrs'><dt><span>long_name :</span></dt><dd>standard deviation of daily cell carbon fixation rate</dd><dt><span>units :</span></dt><dd>fg C cell$^{-1}$ d$^{-1}$</dd></dl></div><div class='xr-var-data'><pre>[1 values with dtype=float64]</pre></div></li></ul></div></li><li class='xr-section-item'><input id='section-152bf4cb-5261-41ea-94a0-1ac291608e04' class='xr-section-summary-in' type='checkbox'  ><label for='section-152bf4cb-5261-41ea-94a0-1ac291608e04' class='xr-section-summary' >Indexes: <span>(4)</span></label><div class='xr-section-inline-details'></div><div class='xr-section-details'><ul class='xr-var-list'><li class='xr-var-item'><div class='xr-index-name'><div>abundance_time</div></div><div class='xr-index-preview'>PandasIndex</div><div></div><input id='index-494c58e6-c742-4726-b2a3-0aab87f376c6' class='xr-index-data-in' type='checkbox'/><label for='index-494c58e6-c742-4726-b2a3-0aab87f376c6' title='Show/Hide index repr'><svg class='icon xr-icon-database'><use xlink:href='#icon-database'></use></svg></label><div class='xr-index-data'><pre>PandasIndex(Index([ 0,  2,  4,  6,  8, 10, 12, 14, 16, 18, 20, 22, 24, 26, 28, 30, 32, 34,\n",
       "       36, 38, 40, 42, 44, 46, 48],\n",
       "      dtype=&#x27;int64&#x27;, name=&#x27;abundance_time&#x27;))</pre></div></li><li class='xr-var-item'><div class='xr-index-name'><div>division_time</div></div><div class='xr-index-preview'>PandasIndex</div><div></div><input id='index-306d3be3-5599-4af3-9efa-3aa63e5f5e64' class='xr-index-data-in' type='checkbox'/><label for='index-306d3be3-5599-4af3-9efa-3aa63e5f5e64' title='Show/Hide index repr'><svg class='icon xr-icon-database'><use xlink:href='#icon-database'></use></svg></label><div class='xr-index-data'><pre>PandasIndex(Index([ 1,  3,  5,  7,  9, 11, 13, 15, 17, 19, 21, 23, 25, 27, 29, 31, 33, 35,\n",
       "       37, 39, 41, 43, 45, 47],\n",
       "      dtype=&#x27;int64&#x27;, name=&#x27;division_time&#x27;))</pre></div></li><li class='xr-var-item'><div class='xr-index-name'><div>carbonloss_time</div></div><div class='xr-index-preview'>PandasIndex</div><div></div><input id='index-823fa2de-1fb7-45c7-87a5-4569e6d4a503' class='xr-index-data-in' type='checkbox'/><label for='index-823fa2de-1fb7-45c7-87a5-4569e6d4a503' title='Show/Hide index repr'><svg class='icon xr-icon-database'><use xlink:href='#icon-database'></use></svg></label><div class='xr-index-data'><pre>PandasIndex(Index([ 1,  3,  5,  7,  9, 11, 13, 15, 17, 19, 21, 23, 25, 27, 29, 31, 33, 35,\n",
       "       37, 39, 41, 43, 45, 47],\n",
       "      dtype=&#x27;int64&#x27;, name=&#x27;carbonloss_time&#x27;))</pre></div></li><li class='xr-var-item'><div class='xr-index-name'><div>carbonfix_time</div></div><div class='xr-index-preview'>PandasIndex</div><div></div><input id='index-e66e29ca-e179-440c-a828-f133aa9570e8' class='xr-index-data-in' type='checkbox'/><label for='index-e66e29ca-e179-440c-a828-f133aa9570e8' title='Show/Hide index repr'><svg class='icon xr-icon-database'><use xlink:href='#icon-database'></use></svg></label><div class='xr-index-data'><pre>PandasIndex(Index([ 1,  3,  5,  7,  9, 11, 13, 15, 17, 19, 21, 23, 25, 27, 29, 31, 33, 35,\n",
       "       37, 39, 41, 43, 45, 47, 49],\n",
       "      dtype=&#x27;int64&#x27;, name=&#x27;carbonfix_time&#x27;))</pre></div></li></ul></div></li><li class='xr-section-item'><input id='section-8e9036ad-3088-4332-8778-1e0ff7e24a81' class='xr-section-summary-in' type='checkbox'  checked><label for='section-8e9036ad-3088-4332-8778-1e0ff7e24a81' class='xr-section-summary' >Attributes: <span>(4)</span></label><div class='xr-section-inline-details'></div><div class='xr-section-details'><dl class='xr-attrs'><dt><span>created_by :</span></dt><dd>propagate_uncertainty.ipynb</dd><dt><span>correct_abundance_mean :</span></dt><dd>1</dd><dt><span>scale_error_with_signal :</span></dt><dd>1</dd><dt><span>loss_formulation :</span></dt><dd>cellsizebased</dd></dl></div></li></ul></div></div>"
      ],
      "text/plain": [
       "<xarray.Dataset>\n",
       "Dimensions:             (abundance_time: 25, division_time: 24,\n",
       "                         carbonloss_time: 24, carbonfix_time: 25)\n",
       "Coordinates:\n",
       "  * abundance_time      (abundance_time) int64 0 2 4 6 8 10 ... 40 42 44 46 48\n",
       "  * division_time       (division_time) int64 1 3 5 7 9 11 ... 37 39 41 43 45 47\n",
       "  * carbonloss_time     (carbonloss_time) int64 1 3 5 7 9 11 ... 39 41 43 45 47\n",
       "  * carbonfix_time      (carbonfix_time) int64 1 3 5 7 9 11 ... 41 43 45 47 49\n",
       "Data variables: (12/14)\n",
       "    abundance           (abundance_time) float64 ...\n",
       "    abundance_sd        (abundance_time) float64 ...\n",
       "    division            (division_time) float64 ...\n",
       "    division_sd         (division_time) float64 ...\n",
       "    dailydivision       float64 ...\n",
       "    dailydivision_sd    float64 ...\n",
       "    ...                  ...\n",
       "    dailycarbonloss     float64 ...\n",
       "    dailycarbonloss_sd  float64 ...\n",
       "    carbonfix           (carbonfix_time) float64 ...\n",
       "    carbonfix_sd        (carbonfix_time) float64 ...\n",
       "    dailycarbonfix      float64 ...\n",
       "    dailycarbonfix_sd   float64 ...\n",
       "Attributes:\n",
       "    created_by:               propagate_uncertainty.ipynb\n",
       "    correct_abundance_mean:   1\n",
       "    scale_error_with_signal:  1\n",
       "    loss_formulation:         cellsizebased"
      ]
     },
     "metadata": {},
     "output_type": "display_data"
    }
   ],
   "source": [
    "filepath = 'zinser_ground_truth.nc'\n",
    "growth = xr.open_dataset(filepath, decode_times=False)\n",
    "display(growth)"
   ]
  },
  {
   "cell_type": "code",
   "execution_count": 38,
   "id": "e3cfac10-75fc-4468-af31-44c5f7dc4fb5",
   "metadata": {
    "tags": []
   },
   "outputs": [
    {
     "data": {
      "text/plain": [
       "array([1217726.78359411, 1263257.61124618, 1272713.84314283])"
      ]
     },
     "execution_count": 38,
     "metadata": {},
     "output_type": "execute_result"
    }
   ],
   "source": [
    "#looking at just values \n",
    "growth['abundance']\n",
    "\n",
    "#look at hours 0,2,4\n",
    "growth.sel(abundance_time=[0,2,4]).abundance_sd.values"
   ]
  },
  {
   "cell_type": "code",
   "execution_count": 40,
   "id": "690192bb-3688-4c89-83cf-44d528334456",
   "metadata": {
    "tags": []
   },
   "outputs": [
    {
     "ename": "SyntaxError",
     "evalue": "'(' was never closed (2891214703.py, line 7)",
     "output_type": "error",
     "traceback": [
      "\u001b[0;36m  Cell \u001b[0;32mIn[40], line 7\u001b[0;36m\u001b[0m\n\u001b[0;31m    fig,axs = plt.subplot(figsize=(10,6)\u001b[0m\n\u001b[0m                         ^\u001b[0m\n\u001b[0;31mSyntaxError\u001b[0m\u001b[0;31m:\u001b[0m '(' was never closed\n"
     ]
    }
   ],
   "source": [
    "#making a plot, carbonloss\n",
    "\n",
    "y = growth['carbonloss'].coords.values\n",
    "x = growth['carbonloss'].values\n",
    "\n",
    "import matplotlib.pyplot as ply\n",
    "fig,axs = plt.subplot(figsize=(10,6)\n",
    "axs.plot(x,y)"
   ]
  }
 ],
 "metadata": {
  "kernelspec": {
   "display_name": "Python 3 (ipykernel)",
   "language": "python",
   "name": "python3"
  },
  "language_info": {
   "codemirror_mode": {
    "name": "ipython",
    "version": 3
   },
   "file_extension": ".py",
   "mimetype": "text/x-python",
   "name": "python",
   "nbconvert_exporter": "python",
   "pygments_lexer": "ipython3",
   "version": "3.10.10"
  }
 },
 "nbformat": 4,
 "nbformat_minor": 5
}
