{
 "cells": [
  {
   "cell_type": "code",
   "execution_count": 1,
   "id": "bde3f5a9-a17c-4fc4-bdf1-ff9955cb4801",
   "metadata": {
    "tags": []
   },
   "outputs": [],
   "source": [
    "import numpy as np\n",
    "import pandas as pd "
   ]
  },
  {
   "cell_type": "raw",
   "id": "e93f4011-f3f2-4f31-99fe-304911256319",
   "metadata": {
    "tags": []
   },
   "source": [
    "# Create two new Pandas Series objects\n",
    "s1 = pd.Series(index=[2016,2017,2018,2019,2020],\n",
    "               data=[4.1,5.2,6.3,7.4,8.5],\n",
    "               name='Temperature')              \n",
    "display(s1) #how to show the data\n",
    "s2 = pd.Series(index=[2016,2017,2018,2019,2020],\n",
    "               data=[35.5,35.0,34.5,34.0,33.5],\n",
    "               name='Salinity')\n",
    "display(s2)"
   ]
  },
  {
   "cell_type": "code",
   "execution_count": 7,
   "id": "a6c684c5-4f14-4d5d-ab29-988a7ddbc1a0",
   "metadata": {
    "tags": []
   },
   "outputs": [
    {
     "name": "stdout",
     "output_type": "stream",
     "text": [
      "[2016 2017 2018 2019 2020]\n"
     ]
    }
   ],
   "source": [
    "print(s1.index.values) ###showing the different index qualifications"
   ]
  },
  {
   "cell_type": "code",
   "execution_count": 8,
   "id": "64e61290-bc05-42eb-b9e5-9fbaca4a572b",
   "metadata": {
    "tags": []
   },
   "outputs": [
    {
     "data": {
      "text/plain": [
       "array([4.1, 5.2, 6.3, 7.4, 8.5])"
      ]
     },
     "execution_count": 8,
     "metadata": {},
     "output_type": "execute_result"
    }
   ],
   "source": [
    "s1.values #showing the values as an array"
   ]
  },
  {
   "cell_type": "code",
   "execution_count": 10,
   "id": "2cfb2bd4-4bb6-44dc-a9d4-9a18cc278d4c",
   "metadata": {
    "tags": []
   },
   "outputs": [
    {
     "data": {
      "text/plain": [
       "2018    34.5\n",
       "2019    34.0\n",
       "Name: Salinity, dtype: float64"
      ]
     },
     "execution_count": 10,
     "metadata": {},
     "output_type": "execute_result"
    }
   ],
   "source": [
    "s2.loc[2019] ##looking at a specific value\n",
    "s2.loc[2018:2019] ##more than one value, but not all --> a slice!"
   ]
  },
  {
   "cell_type": "code",
   "execution_count": 12,
   "id": "c494c0ef-1db3-4585-918b-dc20376a690e",
   "metadata": {
    "tags": []
   },
   "outputs": [
    {
     "data": {
      "text/plain": [
       "2016    4.1\n",
       "2017    5.2\n",
       "2018    6.3\n",
       "2019    6.4\n",
       "2020    7.5\n",
       "Name: Temperature, dtype: float64"
      ]
     },
     "metadata": {},
     "output_type": "display_data"
    }
   ],
   "source": [
    "#changing the 2019 and 2020 temperature and salinity - good 4 catching/fixing errors/. \n",
    "s1.loc[2019] = 6.4 #changing one value.\n",
    "\n",
    "#index by yearm assign new value\n",
    "s1.loc[2020] = 7.5\n",
    "display(s1)"
   ]
  }
 ],
 "metadata": {
  "kernelspec": {
   "display_name": "Python 3 (ipykernel)",
   "language": "python",
   "name": "python3"
  },
  "language_info": {
   "codemirror_mode": {
    "name": "ipython",
    "version": 3
   },
   "file_extension": ".py",
   "mimetype": "text/x-python",
   "name": "python",
   "nbconvert_exporter": "python",
   "pygments_lexer": "ipython3",
   "version": "3.10.10"
  }
 },
 "nbformat": 4,
 "nbformat_minor": 5
}
